{
  "nbformat": 4,
  "nbformat_minor": 0,
  "metadata": {
    "colab": {
      "provenance": []
    },
    "kernelspec": {
      "name": "python3",
      "display_name": "Python 3"
    },
    "language_info": {
      "name": "python"
    }
  },
  "cells": [
    {
      "cell_type": "markdown",
      "source": [
        "1. What are data structures, and why are they important?\n",
        "- Data structures are organized formats for storing and managing data in a computer so that it can be accessed and modified efficiently. They are important because they provide a way to organize data in a manner that makes it easier to perform operations like searching, sorting, insertion, deletion, and updating data efficiently. Examples include arrays, lists, stacks, queues, trees, graphs, and hash tables.\n",
        "2.Explain the difference between mutable and immutable data types with examples.?\n",
        "-Mutable data types can be modified after their creation. Examples include lists, dictionaries, and sets in Python.\n",
        "\n",
        "Immutable data types cannot be changed once created. Examples include strings, tuples, and integers in Python."
      ],
      "metadata": {
        "id": "Da4NuLeaU-ir"
      }
    },
    {
      "cell_type": "code",
      "source": [
        "# Mutable\n",
        "my_list = [1, 2, 3]\n",
        "my_list[0] = 10  # Changes the first element\n",
        "\n",
        "# Immutable\n",
        "my_tuple = (1, 2, 3)\n",
        "# my_tuple[0] = 10  # This will raise an error"
      ],
      "metadata": {
        "id": "IQ4ymtvfWdP9"
      },
      "execution_count": null,
      "outputs": []
    },
    {
      "cell_type": "markdown",
      "source": [
        "3.What are the main differences between lists and tuples in Python?\n",
        "\n",
        "-Lists are mutable, while tuples are immutable.\n",
        "Lists are defined using square brackets [], while tuples are defined using parentheses ().\n",
        "Lists have more built-in methods than tuples."
      ],
      "metadata": {
        "id": "Z195RBvGWp88"
      }
    },
    {
      "cell_type": "markdown",
      "source": [
        "4.Describe how dictionaries store data.?\n",
        "\n",
        "-Dictionaries store data as key-value pairs. Each key must be unique and is used to access its corresponding value. They are implemented using hash tables, allowing for fast data retrieval based on keys..\n",
        "\n",
        "5.Why might you use a set instead of a list in Python?\n",
        "\n",
        "Sets are used when the data must be unique, and order does not matter. They are faster than lists for membership testing because they use hash tables to store data.\n",
        "\n",
        "6.What is a string in Python, and how is it different from a list?\n",
        "\n",
        "-A string is a sequence of characters enclosed in quotes, while a list is a collection of items that can be of different data types. Strings are immutable, while lists are mutable.\n",
        "\n",
        "7.How do tuples ensure data integrity in Python?\n",
        "\n",
        "-Tuples are immutable, meaning their content cannot be changed after creation, thus preventing accidental modification of data.\n",
        "\n",
        "8.What is a hash table, and how does it relate to dictionaries in Python?\n",
        "\n",
        "-A hash table is a data structure that stores data using key-value pairs. Python dictionaries are implemented as hash tables, providing O(1) average time complexity for key access.\n",
        "\n",
        "9.Can lists contain different data types in Python?\n",
        "\n",
        "-Yes, lists can contain elements of different data types including integers, strings, and other lists.\n",
        "\n",
        "10.Explain why strings are immutable in Python.\n",
        "\n",
        "-Strings are immutable in Python to enhance performance and to allow for safe sharing among different parts of a program without unintended modifications.\n",
        "\n",
        "11.What advantages do dictionaries offer over lists for certain tasks?\n",
        "\n",
        "-Dictionaries provide fast access to data using keys, whereas lists require iteration to find elements. This makes dictionaries more efficient for lookups and modifications using specific identifiers.\n",
        "\n",
        "12.Describe a scenario where using a tuple would be preferable over a list.\n",
        "\n",
        "-When defining a set of constant data, such as coordinates (x, y), where the values should not change, a tuple is preferable to prevent accidental modification.\n",
        "\n",
        "13.How do sets handle duplicate values in Python?\n",
        "\n",
        "-Sets automatically discard duplicate values and only store unique elements.\n",
        "\n",
        "14.How does the “in” keyword work differently for lists and dictionaries?\n",
        "\n",
        "-For lists, the in keyword checks for the presence of an element.\n",
        "\n",
        ".For dictionaries, it checks for the presence of a key.\n",
        "\n",
        "15.Can you modify the elements of a tuple? Explain why or why not.\n",
        "\n",
        "No, tuples are immutable, meaning their elements cannot be modified after creation. This ensures data integrity.\n",
        "\n",
        "16.What is a nested dictionary, and give an example of its use case.\n",
        "\n",
        "-A nested dictionary is a dictionary within a dictionary. It is useful for representing complex hierarchical data.\n"
      ],
      "metadata": {
        "id": "b5FVKQx8XBei"
      }
    },
    {
      "cell_type": "code",
      "source": [
        "student_data = {\n",
        "    'student1': {'name': 'John', 'age': 22},\n",
        "    'student2': {'name': 'Alice', 'age': 24}\n",
        "}"
      ],
      "metadata": {
        "id": "KSBp8LcJYnHS"
      },
      "execution_count": null,
      "outputs": []
    },
    {
      "cell_type": "markdown",
      "source": [
        "17.Describe the time complexity of accessing elements in a dictionary.\n",
        "\n",
        "The time complexity of accessing elements in a dictionary is O(1) on average due to the use of hash tables.\n",
        "\n",
        "18.In what situations are lists preferred over dictionaries?\n",
        "\n",
        "Lists are preferred when order matters or when storing a collection of similar data without specific identifiers.\n",
        "\n",
        "19.Why are dictionaries considered unordered, and how does that affect data retrieval?\n",
        "\n",
        "Dictionaries in Python prior to version 3.7 were unordered, meaning they did not maintain insertion order. However, since Python 3.7, they maintain order based on insertion. Data retrieval relies on key access rather than position.\n",
        "\n",
        "20.Explain the difference between a list and a dictionary in terms of data retrieval.\n",
        "\n",
        "Lists retrieve data based on index positions.\n",
        "\n",
        "Dictionaries retrieve data using keys, making access faster and more intuitive when dealing with key-value pairs.\n",
        "\n"
      ],
      "metadata": {
        "id": "BNs_sH5ZYs40"
      }
    },
    {
      "cell_type": "code",
      "source": [
        "# 1. Write a code to create a string with your name and print it\n",
        "my_name = \"utkarsh\"\n",
        "print(my_name)"
      ],
      "metadata": {
        "colab": {
          "base_uri": "https://localhost:8080/"
        },
        "id": "AiSdZcZ1gf8M",
        "outputId": "c924ee65-8618-47de-bd62-47f4bdbbba13"
      },
      "execution_count": 1,
      "outputs": [
        {
          "output_type": "stream",
          "name": "stdout",
          "text": [
            "utkarsh\n"
          ]
        }
      ]
    },
    {
      "cell_type": "code",
      "source": [
        "#2.Write a code to find the length of the string \"Hello World\"\n"
      ],
      "metadata": {
        "id": "_ENl_nOmioP-"
      },
      "execution_count": null,
      "outputs": []
    },
    {
      "cell_type": "code",
      "source": [
        "#3.Write a code to slice the first 3 characters from the string \"Python Programming\"\n",
        "sliced_str = \"Python Programming\"[:3]\n",
        "print(sliced_str)"
      ],
      "metadata": {
        "colab": {
          "base_uri": "https://localhost:8080/"
        },
        "id": "fZrCociwvHD7",
        "outputId": "dcf387ac-7a88-4841-b7ae-e425013c7317"
      },
      "execution_count": 1,
      "outputs": [
        {
          "output_type": "stream",
          "name": "stdout",
          "text": [
            "Pyt\n"
          ]
        }
      ]
    },
    {
      "cell_type": "code",
      "source": [
        "# 4. Write a code to convert the string \"hello\" to uppercase\n",
        "upper_str = \"hello\".upper()\n",
        "print(upper_str)\n"
      ],
      "metadata": {
        "colab": {
          "base_uri": "https://localhost:8080/"
        },
        "id": "-MWgy-Qrv_wJ",
        "outputId": "a5c0f1fe-c428-4884-f8cb-95eff22f3d09"
      },
      "execution_count": 2,
      "outputs": [
        {
          "output_type": "stream",
          "name": "stdout",
          "text": [
            "HELLO\n"
          ]
        }
      ]
    },
    {
      "cell_type": "code",
      "source": [
        "# 5. Write a code to replace the word \"apple\" with \"orange\" in the string \"I like apple\"\n",
        "new_str = \"I like apple\".replace(\"apple\", \"orange\")\n",
        "print(new_str)"
      ],
      "metadata": {
        "colab": {
          "base_uri": "https://localhost:8080/"
        },
        "id": "6gp3WAaAwKez",
        "outputId": "0ed92ddf-edd5-4c8e-ae9a-b316acd59085"
      },
      "execution_count": 3,
      "outputs": [
        {
          "output_type": "stream",
          "name": "stdout",
          "text": [
            "I like orange\n"
          ]
        }
      ]
    },
    {
      "cell_type": "code",
      "source": [
        "# 6. Write a code to create a list with numbers 1 to 5 and print it\n",
        "num_list = [1, 2, 3, 4, 5]\n",
        "print(num_list)"
      ],
      "metadata": {
        "colab": {
          "base_uri": "https://localhost:8080/"
        },
        "id": "dLSW2-vOwyWF",
        "outputId": "cc04c795-5256-42cf-a63b-78c155329452"
      },
      "execution_count": 4,
      "outputs": [
        {
          "output_type": "stream",
          "name": "stdout",
          "text": [
            "[1, 2, 3, 4, 5]\n"
          ]
        }
      ]
    },
    {
      "cell_type": "code",
      "source": [
        "# 7. Write a code to append the number 10 to the list [1, 2, 3, 4]\n",
        "list_7 = [1, 2, 3, 4]\n",
        "list_7.append(10)\n",
        "print(list_7)"
      ],
      "metadata": {
        "colab": {
          "base_uri": "https://localhost:8080/"
        },
        "id": "8WNTRVJ3w8Nn",
        "outputId": "43e6e7ae-1934-4b4d-c4cf-e7d2ad93b2c2"
      },
      "execution_count": 5,
      "outputs": [
        {
          "output_type": "stream",
          "name": "stdout",
          "text": [
            "[1, 2, 3, 4, 10]\n"
          ]
        }
      ]
    },
    {
      "cell_type": "code",
      "source": [
        "# 8. Write a code to remove the number 3 from the list [1, 2, 3, 4, 5]\n",
        "list_8 = [1, 2, 3, 4, 5]\n",
        "list_8.remove(3)\n",
        "print(list_8)\n"
      ],
      "metadata": {
        "colab": {
          "base_uri": "https://localhost:8080/"
        },
        "id": "998cvb6WxaGf",
        "outputId": "f48721a3-907e-4fb1-803b-eb69b85a9a1f"
      },
      "execution_count": 6,
      "outputs": [
        {
          "output_type": "stream",
          "name": "stdout",
          "text": [
            "[1, 2, 4, 5]\n"
          ]
        }
      ]
    },
    {
      "cell_type": "code",
      "source": [
        "# 9. Write a code to access the second element in the list ['a', 'b', 'c', 'd']\n",
        "list_9 = ['a', 'b', 'c', 'd']\n",
        "print(list_9[1])\n"
      ],
      "metadata": {
        "colab": {
          "base_uri": "https://localhost:8080/"
        },
        "id": "18wR52USxgpo",
        "outputId": "04dc9c37-5016-46ed-a2c9-abffe1a46ba5"
      },
      "execution_count": 7,
      "outputs": [
        {
          "output_type": "stream",
          "name": "stdout",
          "text": [
            "b\n"
          ]
        }
      ]
    },
    {
      "cell_type": "code",
      "source": [
        "# 10. Write a code to reverse the list [10, 20, 30, 40, 50]\n",
        "list_10 = [10, 20, 30, 40, 50]\n",
        "list_10.reverse()\n",
        "print(list_10)"
      ],
      "metadata": {
        "colab": {
          "base_uri": "https://localhost:8080/"
        },
        "id": "JxRIOhDVycs1",
        "outputId": "046c3653-74fc-4ba7-e11b-94876dc49513"
      },
      "execution_count": 8,
      "outputs": [
        {
          "output_type": "stream",
          "name": "stdout",
          "text": [
            "[50, 40, 30, 20, 10]\n"
          ]
        }
      ]
    },
    {
      "cell_type": "code",
      "source": [
        "# 11. Write a code to create a tuple with the elements 100, 200, 300 and print it\n",
        "tuple_11 = (100, 200, 300)\n",
        "print(tuple_11)"
      ],
      "metadata": {
        "colab": {
          "base_uri": "https://localhost:8080/"
        },
        "id": "nvBb717syhXr",
        "outputId": "f47f2acf-c926-4181-d9d5-fbe95cc5a159"
      },
      "execution_count": 9,
      "outputs": [
        {
          "output_type": "stream",
          "name": "stdout",
          "text": [
            "(100, 200, 300)\n"
          ]
        }
      ]
    },
    {
      "cell_type": "code",
      "source": [
        "# 12. Write a code to access the second-to-last element of the tuple ('red', 'green', 'blue', 'yellow')\n",
        "tuple_12 = ('red', 'green', 'blue', 'yellow')\n",
        "print(tuple_12[-2])\n"
      ],
      "metadata": {
        "colab": {
          "base_uri": "https://localhost:8080/"
        },
        "id": "xmfMCsNeyowQ",
        "outputId": "ea72965f-b208-4af1-a6aa-43817916c3c7"
      },
      "execution_count": 10,
      "outputs": [
        {
          "output_type": "stream",
          "name": "stdout",
          "text": [
            "blue\n"
          ]
        }
      ]
    },
    {
      "cell_type": "code",
      "source": [
        "# 13. Write a code to find the minimum number in the tuple (10, 20, 5, 15)\n",
        "tuple_13 = (10, 20, 5, 15)\n",
        "print(min(tuple_13))"
      ],
      "metadata": {
        "colab": {
          "base_uri": "https://localhost:8080/"
        },
        "id": "fagglKmvytmc",
        "outputId": "5242ac5a-42d5-430b-c4a7-1f5e9b3922d1"
      },
      "execution_count": 11,
      "outputs": [
        {
          "output_type": "stream",
          "name": "stdout",
          "text": [
            "5\n"
          ]
        }
      ]
    },
    {
      "cell_type": "code",
      "source": [
        "\n",
        "# 14. Write a code to find the index of the element \"cat\" in the tuple ('dog', 'cat', 'rabbit')\n",
        "tuple_14 = ('dog', 'cat', 'rabbit')\n",
        "print(tuple_14.index(\"cat\"))"
      ],
      "metadata": {
        "colab": {
          "base_uri": "https://localhost:8080/"
        },
        "id": "KcsnnL8Ryyd0",
        "outputId": "62740299-0e65-4110-84d2-6c8bc9ca0dd3"
      },
      "execution_count": 12,
      "outputs": [
        {
          "output_type": "stream",
          "name": "stdout",
          "text": [
            "1\n"
          ]
        }
      ]
    },
    {
      "cell_type": "code",
      "source": [
        "# 15. Write a code to create a tuple containing three different fruits and check if \"kiwi\" is in it\n",
        "tuple_15 = ('apple', 'banana', 'cherry')\n",
        "print(\"kiwi\" in tuple_15)"
      ],
      "metadata": {
        "colab": {
          "base_uri": "https://localhost:8080/"
        },
        "id": "yelxkn_4y6Lo",
        "outputId": "3c6d12f8-8bd6-40bb-e82c-83cc366d6d54"
      },
      "execution_count": 13,
      "outputs": [
        {
          "output_type": "stream",
          "name": "stdout",
          "text": [
            "False\n"
          ]
        }
      ]
    },
    {
      "cell_type": "code",
      "source": [
        "# 16. Write a code to create a set with the elements 'a', 'b', 'c' and print it\n",
        "set_16 = {'a', 'b', 'c'}\n",
        "print(set_16)"
      ],
      "metadata": {
        "colab": {
          "base_uri": "https://localhost:8080/"
        },
        "id": "f-GrNHqxzDKq",
        "outputId": "518bf539-7e70-4ad9-bd4f-ed112c4f6236"
      },
      "execution_count": 14,
      "outputs": [
        {
          "output_type": "stream",
          "name": "stdout",
          "text": [
            "{'b', 'a', 'c'}\n"
          ]
        }
      ]
    },
    {
      "cell_type": "code",
      "source": [
        "# 17. Write a code to clear all elements from the set {1, 2, 3, 4, 5}\n",
        "set_17 = {1, 2, 3, 4, 5}\n",
        "set_17.clear()\n",
        "print(set_17)"
      ],
      "metadata": {
        "colab": {
          "base_uri": "https://localhost:8080/"
        },
        "id": "fYGXGbRUzFaB",
        "outputId": "013a2432-fe42-45fe-891c-1ce77b2472e2"
      },
      "execution_count": 15,
      "outputs": [
        {
          "output_type": "stream",
          "name": "stdout",
          "text": [
            "set()\n"
          ]
        }
      ]
    },
    {
      "cell_type": "code",
      "source": [
        "# 18. Write a code to remove the element 4 from the set {1, 2, 3, 4}\n",
        "set_18 = {1, 2, 3, 4}\n",
        "set_18.discard(4)\n",
        "print(set_18)\n"
      ],
      "metadata": {
        "colab": {
          "base_uri": "https://localhost:8080/"
        },
        "id": "mQ0fMK4yzJmE",
        "outputId": "6e5d3bb2-9e56-4aa7-a43f-d34265626548"
      },
      "execution_count": 16,
      "outputs": [
        {
          "output_type": "stream",
          "name": "stdout",
          "text": [
            "{1, 2, 3}\n"
          ]
        }
      ]
    },
    {
      "cell_type": "code",
      "source": [
        "# 19. Write a code to find the union of two sets {1, 2, 3} and {3, 4, 5}\n",
        "set_19_a = {1, 2, 3}\n",
        "set_19_b = {3, 4, 5}\n",
        "print(set_19_a.union(set_19_b))"
      ],
      "metadata": {
        "colab": {
          "base_uri": "https://localhost:8080/"
        },
        "id": "IH0LIE64zOsm",
        "outputId": "6cd0fa5e-37f9-4e1b-ddeb-d1a4761c4aec"
      },
      "execution_count": 17,
      "outputs": [
        {
          "output_type": "stream",
          "name": "stdout",
          "text": [
            "{1, 2, 3, 4, 5}\n"
          ]
        }
      ]
    },
    {
      "cell_type": "code",
      "source": [
        "# 20. Write a code to find the intersection of two sets {1, 2, 3} and {2, 3, 4}\n",
        "set_20_a = {1, 2, 3}\n",
        "set_20_b = {2, 3, 4}\n",
        "print(set_20_a.intersection(set_20_b))"
      ],
      "metadata": {
        "colab": {
          "base_uri": "https://localhost:8080/"
        },
        "id": "p4Vqmpj1zVMv",
        "outputId": "5570c2e7-c670-481d-ac00-1afc9ef04be7"
      },
      "execution_count": 18,
      "outputs": [
        {
          "output_type": "stream",
          "name": "stdout",
          "text": [
            "{2, 3}\n"
          ]
        }
      ]
    },
    {
      "cell_type": "code",
      "source": [
        "# 21. Write a code to create a dictionary with the keys \"name\", \"age\", and \"city\", and print it\n",
        "my_dict = {\"name\": \"Alice\", \"age\": 25, \"city\": \"New York\"}\n",
        "print(my_dict)\n"
      ],
      "metadata": {
        "colab": {
          "base_uri": "https://localhost:8080/"
        },
        "id": "IiG0x63hzZfp",
        "outputId": "308eef0a-9a56-4da3-9875-45674032f694"
      },
      "execution_count": 19,
      "outputs": [
        {
          "output_type": "stream",
          "name": "stdout",
          "text": [
            "{'name': 'Alice', 'age': 25, 'city': 'New York'}\n"
          ]
        }
      ]
    },
    {
      "cell_type": "code",
      "source": [
        "\n",
        "# 22. Write a code to add a new key-value pair \"country\": \"USA\" to the dictionary {'name': 'John', 'age': 25}\n",
        "dict_22 = {'name': 'John', 'age': 25}\n",
        "dict_22[\"country\"] = \"USA\"\n",
        "print(dict_22)"
      ],
      "metadata": {
        "colab": {
          "base_uri": "https://localhost:8080/"
        },
        "id": "eCjK7zBczeak",
        "outputId": "98c752ac-5614-47ec-fb9e-bda8c146e96d"
      },
      "execution_count": 20,
      "outputs": [
        {
          "output_type": "stream",
          "name": "stdout",
          "text": [
            "{'name': 'John', 'age': 25, 'country': 'USA'}\n"
          ]
        }
      ]
    },
    {
      "cell_type": "code",
      "source": [
        "# 23. Write a code to access the value associated with the key \"name\" in the dictionary {'name': 'Alice', 'age': 30}\n",
        "dict_23 = {'name': 'Alice', 'age': 30}\n",
        "print(dict_23[\"name\"])\n"
      ],
      "metadata": {
        "colab": {
          "base_uri": "https://localhost:8080/"
        },
        "id": "67o7Ha0uzjE7",
        "outputId": "c3162f79-8ede-4979-e2a6-342347a4617b"
      },
      "execution_count": 21,
      "outputs": [
        {
          "output_type": "stream",
          "name": "stdout",
          "text": [
            "Alice\n"
          ]
        }
      ]
    },
    {
      "cell_type": "code",
      "source": [
        "# 24. Write a code to remove the key \"age\" from the dictionary {'name': 'Bob', 'age': 22, 'city': 'New York'}\n",
        "dict_24 = {'name': 'Bob', 'age': 22, 'city': 'New York'}\n",
        "del dict_24[\"age\"]\n",
        "print(dict_24)\n"
      ],
      "metadata": {
        "colab": {
          "base_uri": "https://localhost:8080/"
        },
        "id": "C3hDSFGRzn-h",
        "outputId": "3a36f561-52e0-45b9-85b7-55c6003c8ea5"
      },
      "execution_count": 22,
      "outputs": [
        {
          "output_type": "stream",
          "name": "stdout",
          "text": [
            "{'name': 'Bob', 'city': 'New York'}\n"
          ]
        }
      ]
    },
    {
      "cell_type": "code",
      "source": [
        "# 25. Write a code to check if the key \"city\" exists in the dictionary {'name': 'Alice', 'city': 'Paris'}\n",
        "dict_25 = {'name': 'Alice', 'city': 'Paris'}\n",
        "print(\"city\" in dict_25)\n"
      ],
      "metadata": {
        "colab": {
          "base_uri": "https://localhost:8080/"
        },
        "id": "y-v4iEBkzsMF",
        "outputId": "b9ee9636-f34d-42c7-f5be-d02b3dcbbce3"
      },
      "execution_count": 23,
      "outputs": [
        {
          "output_type": "stream",
          "name": "stdout",
          "text": [
            "True\n"
          ]
        }
      ]
    },
    {
      "cell_type": "code",
      "source": [
        "# 26. Write a code to create a list, a tuple, and a dictionary, and print them all\n",
        "list_26 = [1, 2, 3]\n",
        "tuple_26 = (4, 5, 6)\n",
        "dict_26 = {\"a\": 7, \"b\": 8, \"c\": 9}\n",
        "print(list_26, tuple_26, dict_26)"
      ],
      "metadata": {
        "colab": {
          "base_uri": "https://localhost:8080/"
        },
        "id": "9x0nlVc1zv-2",
        "outputId": "d0ee38bb-0885-4604-d8e2-3b9adc2292e7"
      },
      "execution_count": 24,
      "outputs": [
        {
          "output_type": "stream",
          "name": "stdout",
          "text": [
            "[1, 2, 3] (4, 5, 6) {'a': 7, 'b': 8, 'c': 9}\n"
          ]
        }
      ]
    },
    {
      "cell_type": "code",
      "source": [
        "# 27. Write a code to create a list of 5 random numbers between 1 and 100, sort it in ascending order, and print the result\n",
        "import random\n",
        "list_27 = random.sample(range(1, 101), 5)\n",
        "list_27.sort()\n",
        "print(list_27)\n"
      ],
      "metadata": {
        "colab": {
          "base_uri": "https://localhost:8080/"
        },
        "id": "-dKcFNZ3zzrI",
        "outputId": "cb60d755-2043-49d0-8aad-8ba2b5b4a63f"
      },
      "execution_count": 25,
      "outputs": [
        {
          "output_type": "stream",
          "name": "stdout",
          "text": [
            "[32, 55, 91, 94, 95]\n"
          ]
        }
      ]
    },
    {
      "cell_type": "code",
      "source": [
        "# 28. Write a code to create a list with strings and print the element at the third index\n",
        "list_28 = [\"apple\", \"banana\", \"cherry\", \"date\", \"fig\"]\n",
        "print(list_28[3])\n"
      ],
      "metadata": {
        "colab": {
          "base_uri": "https://localhost:8080/"
        },
        "id": "P_zqbT5Dz34X",
        "outputId": "cd79d06c-a528-41c3-dae7-83cc65feb45d"
      },
      "execution_count": 26,
      "outputs": [
        {
          "output_type": "stream",
          "name": "stdout",
          "text": [
            "date\n"
          ]
        }
      ]
    },
    {
      "cell_type": "code",
      "source": [
        "# 29. Write a code to combine two dictionaries into one and print the result\n",
        "dict_29_a = {\"name\": \"Alice\", \"age\": 30}\n",
        "dict_29_b = {\"city\": \"Paris\", \"country\": \"France\"}\n",
        "combined_dict = {**dict_29_a, **dict_29_b}\n",
        "print(combined_dict)\n"
      ],
      "metadata": {
        "colab": {
          "base_uri": "https://localhost:8080/"
        },
        "id": "qoErBLt0z7qa",
        "outputId": "96f60def-3ace-4957-c85b-c5a3f17aada0"
      },
      "execution_count": 27,
      "outputs": [
        {
          "output_type": "stream",
          "name": "stdout",
          "text": [
            "{'name': 'Alice', 'age': 30, 'city': 'Paris', 'country': 'France'}\n"
          ]
        }
      ]
    },
    {
      "cell_type": "code",
      "source": [
        "# 30. Write a code to convert a list of strings into a set\n",
        "list_30 = [\"apple\", \"banana\", \"apple\", \"cherry\"]\n",
        "set_30 = set(list_30)\n",
        "print(set_30)"
      ],
      "metadata": {
        "colab": {
          "base_uri": "https://localhost:8080/"
        },
        "id": "xXsydMk00AOS",
        "outputId": "e5b05949-d520-473a-863a-c1f14ba6c08b"
      },
      "execution_count": 28,
      "outputs": [
        {
          "output_type": "stream",
          "name": "stdout",
          "text": [
            "{'cherry', 'apple', 'banana'}\n"
          ]
        }
      ]
    }
  ]
}